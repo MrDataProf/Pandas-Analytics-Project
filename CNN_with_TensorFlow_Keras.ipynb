{
  "nbformat": 4,
  "nbformat_minor": 0,
  "metadata": {
    "colab": {
      "provenance": [],
      "authorship_tag": "ABX9TyPCYZpW1xBwy5T4rKgRS9zJ",
      "include_colab_link": true
    },
    "kernelspec": {
      "name": "python3",
      "display_name": "Python 3"
    },
    "language_info": {
      "name": "python"
    }
  },
  "cells": [
    {
      "cell_type": "markdown",
      "metadata": {
        "id": "view-in-github",
        "colab_type": "text"
      },
      "source": [
        "<a href=\"https://colab.research.google.com/github/MrDataProf/Pandas-Analytics-Project/blob/main/CNN_with_TensorFlow_Keras.ipynb\" target=\"_parent\"><img src=\"https://colab.research.google.com/assets/colab-badge.svg\" alt=\"Open In Colab\"/></a>"
      ]
    },
    {
      "cell_type": "code",
      "execution_count": null,
      "metadata": {
        "id": "u_gS3HM8Uh3V"
      },
      "outputs": [],
      "source": [
        "import tensorflow as tf\n",
        "from tensorflow.keras import layers, models\n",
        "from sklearn.datasets import load_digits\n",
        "from sklearn.model_selection import train_test_split\n",
        "from sklearn.metrics import accuracy_score, classification_report, confusion_matrix\n",
        "import matplotlib.pyplot as plt\n",
        "import numpy as np\n",
        "import seaborn as sns\n",
        "\n"
      ]
    },
    {
      "cell_type": "code",
      "source": [
        "# Load the digits dataset\n",
        "digits = load_digits()\n",
        "X, y = digits.images, digits.target\n",
        "\n",
        "# Split the data into training and testing sets\n",
        "X_train, X_test, y_train, y_test = train_test_split(X, y, test_size=0.2, random_state=42)\n",
        "\n"
      ],
      "metadata": {
        "id": "WX-Pev6jUtjS"
      },
      "execution_count": null,
      "outputs": []
    },
    {
      "cell_type": "code",
      "source": [
        "# Preprocess the data for CNN\n",
        "X_train = X_train[..., tf.newaxis].astype(\"float32\") / 16.0\n",
        "X_test = X_test[..., tf.newaxis].astype(\"float32\") / 16.0\n",
        "\n",
        "# Create a Convolutional Neural Network (CNN)\n",
        "model_cnn = models.Sequential([\n",
        "    layers.Conv2D(32, (3, 3), activation=\"relu\", input_shape=(8, 8, 1)),\n",
        "    layers.MaxPooling2D((2, 2)),\n",
        "    layers.Flatten(),\n",
        "    layers.Dense(64, activation=\"relu\"),\n",
        "    layers.Dense(10, activation=\"softmax\")\n",
        "])\n",
        "\n"
      ],
      "metadata": {
        "id": "jwge1ve3UtmB"
      },
      "execution_count": null,
      "outputs": []
    },
    {
      "cell_type": "code",
      "source": [
        "# Compile the model\n",
        "model_cnn.compile(optimizer=\"adam\", loss=\"sparse_categorical_crossentropy\", metrics=[\"accuracy\"])\n",
        "\n",
        "# Train the model\n",
        "model_cnn.fit(X_train, y_train, epochs=10, validation_split=0.2)\n",
        "\n",
        "\n"
      ],
      "metadata": {
        "colab": {
          "base_uri": "https://localhost:8080/"
        },
        "id": "3GceaoaJUto3",
        "outputId": "05a18b12-9e45-4a2e-8e9d-85af7df44405"
      },
      "execution_count": null,
      "outputs": [
        {
          "output_type": "stream",
          "name": "stdout",
          "text": [
            "Epoch 1/10\n",
            "36/36 [==============================] - 2s 24ms/step - loss: 2.1453 - accuracy: 0.3299 - val_loss: 1.9716 - val_accuracy: 0.4062\n",
            "Epoch 2/10\n",
            "36/36 [==============================] - 0s 12ms/step - loss: 1.6542 - accuracy: 0.7250 - val_loss: 1.3391 - val_accuracy: 0.7882\n",
            "Epoch 3/10\n",
            "36/36 [==============================] - 0s 12ms/step - loss: 1.0007 - accuracy: 0.8486 - val_loss: 0.7775 - val_accuracy: 0.8090\n",
            "Epoch 4/10\n",
            "36/36 [==============================] - 0s 9ms/step - loss: 0.5877 - accuracy: 0.8999 - val_loss: 0.4977 - val_accuracy: 0.9028\n",
            "Epoch 5/10\n",
            "36/36 [==============================] - 0s 8ms/step - loss: 0.3911 - accuracy: 0.9269 - val_loss: 0.3638 - val_accuracy: 0.9097\n",
            "Epoch 6/10\n",
            "36/36 [==============================] - 0s 7ms/step - loss: 0.2949 - accuracy: 0.9452 - val_loss: 0.3106 - val_accuracy: 0.9236\n",
            "Epoch 7/10\n",
            "36/36 [==============================] - 0s 11ms/step - loss: 0.2325 - accuracy: 0.9574 - val_loss: 0.2649 - val_accuracy: 0.9410\n",
            "Epoch 8/10\n",
            "36/36 [==============================] - 1s 16ms/step - loss: 0.1929 - accuracy: 0.9626 - val_loss: 0.2197 - val_accuracy: 0.9340\n",
            "Epoch 9/10\n",
            "36/36 [==============================] - 1s 17ms/step - loss: 0.1615 - accuracy: 0.9695 - val_loss: 0.2132 - val_accuracy: 0.9340\n",
            "Epoch 10/10\n",
            "36/36 [==============================] - 1s 15ms/step - loss: 0.1444 - accuracy: 0.9739 - val_loss: 0.1839 - val_accuracy: 0.9479\n"
          ]
        },
        {
          "output_type": "execute_result",
          "data": {
            "text/plain": [
              "<keras.src.callbacks.History at 0x7e5fc0c33df0>"
            ]
          },
          "metadata": {},
          "execution_count": 4
        }
      ]
    },
    {
      "cell_type": "code",
      "source": [
        "# Evaluate the model\n",
        "y_pred_cnn_prob = model_cnn.predict(X_test)\n",
        "y_pred_cnn = np.argmax(y_pred_cnn_prob, axis=1)\n",
        "\n",
        "print(\"CNN Accuracy:\", accuracy_score(y_test, y_pred_cnn))\n",
        "print(\"Classification Report:\\n\", classification_report(y_test, y_pred_cnn))\n",
        "conf_mat_cnn = confusion_matrix(y_test, y_pred_cnn)\n"
      ],
      "metadata": {
        "colab": {
          "base_uri": "https://localhost:8080/"
        },
        "id": "KkO1t7KVUtri",
        "outputId": "743e4114-61ce-4ca7-e0ee-46ddbbc75b7d"
      },
      "execution_count": null,
      "outputs": [
        {
          "output_type": "stream",
          "name": "stdout",
          "text": [
            "12/12 [==============================] - 0s 3ms/step\n",
            "CNN Accuracy: 0.9611111111111111\n",
            "Classification Report:\n",
            "               precision    recall  f1-score   support\n",
            "\n",
            "           0       1.00      1.00      1.00        33\n",
            "           1       1.00      0.82      0.90        28\n",
            "           2       0.92      1.00      0.96        33\n",
            "           3       1.00      0.97      0.99        34\n",
            "           4       0.98      1.00      0.99        46\n",
            "           5       0.94      0.96      0.95        47\n",
            "           6       0.97      0.97      0.97        35\n",
            "           7       1.00      0.97      0.99        34\n",
            "           8       0.94      0.97      0.95        30\n",
            "           9       0.90      0.93      0.91        40\n",
            "\n",
            "    accuracy                           0.96       360\n",
            "   macro avg       0.96      0.96      0.96       360\n",
            "weighted avg       0.96      0.96      0.96       360\n",
            "\n"
          ]
        }
      ]
    },
    {
      "cell_type": "code",
      "source": [
        "# Visualize the confusion matrix\n",
        "plt.figure(figsize=(8, 8))\n",
        "sns.heatmap(conf_mat_cnn, annot=True, fmt=\"d\", cmap=\"Blues\", xticklabels=digits.target_names, yticklabels=digits.target_names)\n",
        "plt.title(\"Confusion Matrix - CNN\")\n",
        "plt.xlabel(\"Predicted Label\")\n",
        "plt.ylabel(\"True Label\")\n",
        "plt.show()"
      ],
      "metadata": {
        "colab": {
          "base_uri": "https://localhost:8080/",
          "height": 718
        },
        "id": "Ry0u_hyZUtuX",
        "outputId": "befeb7c6-836b-4dad-92ea-cf224d1585bd"
      },
      "execution_count": null,
      "outputs": [
        {
          "output_type": "display_data",
          "data": {
            "text/plain": [
              "<Figure size 800x800 with 2 Axes>"
            ],
            "image/png": "[encoded data removed]"
          },
          "metadata": {}
        }
      ]
    },
    {
      "cell_type": "markdown",
      "source": [
        "## Interpretation:\n",
        "**Evaluation:**\n",
        "The evaluation metrics for the Convolutional Neural Network (CNN) on your task also show excellent results. Let's break down the interpretation:\n",
        "\n",
        "**Accuracy:**\n",
        "The accuracy score of 0.9611 (or 96.11%) indicates that the CNN correctly predicted the target values for approximately 96.11% of the samples in the test set.\n",
        "\n",
        "**Classification Report:**\n",
        "The classification report provides detailed metrics for each class:\n",
        "\n",
        "**Precision:** Precision is the ratio of correctly predicted positive observations to the total predicted positives. In this case, precision values range from 0.90 to 1.00, indicating high precision for most classes.\n",
        "\n",
        "**Recall (Sensitivity or True Positive Rate):** Recall is the ratio of correctly predicted positive observations to the total actual positives. Recall values range from 0.82 to 1.00, demonstrating high recall for most classes.\n",
        "\n",
        "**F1-Score:** The F1-Score is the harmonic mean of precision and recall. It provides a balance between precision and recall. For most classes, the F1-score is close to 1.00, indicating a good balance between precision and recall.\n",
        "\n",
        "**Support:** Support is the number of actual occurrences of the class in the specified dataset.\n",
        "\n",
        "**Macro Avg and Weighted Avg:**\n",
        "**Macro Avg:** The average of precision, recall, and F1-score across all classes. The macro average in this case is 0.96, which is excellent.\n",
        "\n",
        "**Weighted Avg:** The weighted average of precision, recall, and F1-score, considering the support for each class. The weighted average in this case is 0.96, indicating a well-balanced performance across different classes.\n",
        "\n",
        "**Summary:**\n",
        "The CNN also performs exceptionally well on your task, achieving high accuracy and demonstrating robust precision and recall values for each class. This suggests that the model can effectively classify different classes in your dataset. Overall, both the ANN and CNN models show strong potential for the given classification task, and the choice between them may depend on factors such as model complexity and computational resources.\n",
        "\n",
        "\n",
        "\n",
        "\n",
        "\n"
      ],
      "metadata": {
        "id": "XqUYgR5ILZXr"
      }
    }
  ]
}